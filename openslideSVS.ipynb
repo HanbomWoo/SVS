{
 "cells": [
  {
   "cell_type": "code",
   "execution_count": 116,
   "metadata": {},
   "outputs": [],
   "source": [
    "import os"
   ]
  },
  {
   "cell_type": "code",
   "execution_count": 117,
   "metadata": {},
   "outputs": [],
   "source": [
    "os.environ['PATH'] = r\"C:\\Users\\whbom\\Downloads\\openslide-win64-20171122 (1)\\openslide-win64-20171122\\bin\" + \";\" + os.environ['PATH']"
   ]
  },
  {
   "cell_type": "code",
   "execution_count": 118,
   "metadata": {},
   "outputs": [
    {
     "data": {
      "text/plain": [
       "'C:\\\\Users\\\\whbom\\\\Downloads\\\\openslide-win64-20171122 (1)\\\\openslide-win64-20171122\\\\bin;C:\\\\Users\\\\whbom\\\\Downloads\\\\openslide-win64-20171122 (1)\\\\openslide-win64-20171122\\\\bin;C:\\\\Users\\\\whbom\\\\Downloads\\\\openslide-win64-20171122 (1)\\\\openslide-win64-20171122\\\\bin;C:\\\\Users\\\\whbom\\\\Downloads\\\\openslide-win64-20171122 (1)\\\\openslide-win64-20171122\\\\bin;C:\\\\Users\\\\whbom\\\\Downloads\\\\openslide-win64-20171122 (1)\\\\openslide-win64-20171122\\\\bin;C:\\\\Users\\\\whbom\\\\Anaconda3;C:\\\\Users\\\\whbom\\\\Anaconda3\\\\Library\\\\mingw-w64\\\\bin;C:\\\\Users\\\\whbom\\\\Anaconda3\\\\Library\\\\usr\\\\bin;C:\\\\Users\\\\whbom\\\\Anaconda3\\\\Library\\\\bin;C:\\\\Users\\\\whbom\\\\Anaconda3\\\\Scripts;C:\\\\Users\\\\whbom\\\\Anaconda3\\\\bin;C:\\\\Users\\\\whbom\\\\Anaconda3\\\\condabin;C:\\\\Windows\\\\system32;C:\\\\Windows;C:\\\\Windows\\\\System32\\\\Wbem;C:\\\\Windows\\\\System32\\\\WindowsPowerShell\\\\v1.0;C:\\\\Windows\\\\System32\\\\OpenSSH;C:\\\\Program Files (x86)\\\\NVIDIA Corporation\\\\PhysX\\\\Common;C:\\\\Program Files\\\\NVIDIA Corporation\\\\NVIDIA NvDLISR;C:\\\\Program Files\\\\Intel\\\\WiFi\\\\bin;C:\\\\Program Files\\\\Common Files\\\\Intel\\\\WirelessCommon;C:\\\\WINDOWS\\\\system32;C:\\\\WINDOWS;C:\\\\WINDOWS\\\\System32\\\\Wbem;C:\\\\WINDOWS\\\\System32\\\\WindowsPowerShell\\\\v1.0;C:\\\\WINDOWS\\\\System32\\\\OpenSSH;C:\\\\Program Files\\\\Git\\\\cmd;C:\\\\Program Files (x86)\\\\Windows Kits\\\\8.1\\\\Windows Performance Toolkit;C:\\\\Users\\\\whbom\\\\AppData\\\\Local\\\\Microsoft\\\\WindowsApps;C:\\\\Program Files\\\\Intel\\\\WiFi\\\\bin;C:\\\\Program Files\\\\Common Files\\\\Intel\\\\WirelessCommon;C:\\\\Users\\\\whbom\\\\AppData\\\\Local\\\\GitHubDesktop\\\\bin'"
      ]
     },
     "execution_count": 118,
     "metadata": {},
     "output_type": "execute_result"
    }
   ],
   "source": [
    "os.environ['PATH']"
   ]
  },
  {
   "cell_type": "code",
   "execution_count": 119,
   "metadata": {},
   "outputs": [],
   "source": [
    "import openslide\n",
    "from openslide import open_slide, ImageSlide\n",
    "from openslide.deepzoom import DeepZoomGenerator as dzg\n",
    "import matplotlib.pyplot as plt\n",
    "import numpy as np\n",
    "import glob\n",
    "import pandas as pd\n"
   ]
  },
  {
   "cell_type": "code",
   "execution_count": 183,
   "metadata": {},
   "outputs": [
    {
     "data": {
      "text/plain": [
       "'C:\\\\Users\\\\whbom\\\\projectspace\\\\SVS\\\\TCGA-SARC\\\\001\\\\TCGA-3B-A9HI-01A-01-TS1.F2301418-D697-41D0-A158-7F931B05E5E7.svs'"
      ]
     },
     "execution_count": 183,
     "metadata": {},
     "output_type": "execute_result"
    }
   ],
   "source": [
    "path=r'C:\\Users\\whbom\\projectspace\\SVS\\TCGA-SARC\\001\\TCGA-3B-A9HI-01A-01-TS1.F2301418-D697-41D0-A158-7F931B05E5E7.svs'\n",
    "path"
   ]
  },
  {
   "cell_type": "code",
   "execution_count": 168,
   "metadata": {
    "collapsed": true,
    "jupyter": {
     "outputs_hidden": true,
     "source_hidden": true
    }
   },
   "outputs": [
    {
     "name": "stdout",
     "output_type": "stream",
     "text": [
      "4\n",
      "(75695, 25493)\n"
     ]
    },
    {
     "data": {
      "text/plain": [
       "<matplotlib.image.AxesImage at 0x298c084f1c8>"
      ]
     },
     "execution_count": 168,
     "metadata": {},
     "output_type": "execute_result"
    },
    {
     "data": {
      "image/png": "[encoded data removed]",
      "text/plain": [
       "<Figure size 432x288 with 2 Axes>"
      ]
     },
     "metadata": {
      "needs_background": "light"
     },
     "output_type": "display_data"
    }
   ],
   "source": [
    "\n",
    "slide=open_slide(path)\n",
    "\n",
    "print(slide.level_count)\n",
    "print(slide.dimensions)\n",
    "\n",
    "b=np.array(slide)\n",
    "c=str(b)\n",
    "c\n",
    "\n",
    "fig, ax = plt.subplots(1, 2)\n",
    "ax[0].imshow(slide.associated_images['thumbnail'])\n"
   ]
  },
  {
   "cell_type": "code",
   "execution_count": 202,
   "metadata": {},
   "outputs": [],
   "source": [
    "imgpath=r'C:\\Users\\whbom\\projectspace\\SVS\\TCGA-SARC'\n",
    "\n",
    "for i in range(4):\n",
    "    a= glob.glob(imgpath+'\\\\'+'00{}'.format(i+1)+'/*.svs')\n",
    "    SAVE_PATH = r'C:\\Users\\whbom\\projectspace\\SVS\\save\\\\'+'00{}'.format(i+1)\n",
    "    \n",
    "    for k in range(len(a)):\n",
    "        file = open(SAVE_PATH +'\\\\'+ '{}'.format(k+1) + '.npy', 'w')\n",
    "        \n",
    "        DEEP_PathologyIMGPath= a[k]\n",
    "        slide=open_slide(DEEP_PathologyIMGPath)\n",
    "        \n",
    "        snp=str(slide)\n",
    "        file.write(snp)\n",
    "        file.close()"
   ]
  },
  {
   "cell_type": "code",
   "execution_count": null,
   "metadata": {},
   "outputs": [],
   "source": [
    "fig, ax = plt.subplots(1,2)\n",
    "\n",
    "\n",
    "\n",
    "ax[0].imshow(slide.associated_images['thumbnail'])\n",
    "ax[0].axis('on')\n",
    "ax[1].imshow(slide2.associated_images['thumbnail'])\n",
    "ax[1].axis('on')"
   ]
  },
  {
   "cell_type": "code",
   "execution_count": null,
   "metadata": {},
   "outputs": [],
   "source": [
    "#dzImage = dzg(slide)"
   ]
  },
  {
   "cell_type": "code",
   "execution_count": null,
   "metadata": {},
   "outputs": [],
   "source": []
  }
 ],
 "metadata": {
  "kernelspec": {
   "display_name": "Python 3",
   "language": "python",
   "name": "python3"
  },
  "language_info": {
   "codemirror_mode": {
    "name": "ipython",
    "version": 3
   },
   "file_extension": ".py",
   "mimetype": "text/x-python",
   "name": "python",
   "nbconvert_exporter": "python",
   "pygments_lexer": "ipython3",
   "version": "3.7.6"
  }
 },
 "nbformat": 4,
 "nbformat_minor": 4
}
